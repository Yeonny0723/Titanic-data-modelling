{
 "cells": [
  {
   "cell_type": "code",
   "execution_count": 55,
   "metadata": {
    "colab": {},
    "colab_type": "code",
    "id": "zKbTYjWpx03n"
   },
   "outputs": [],
   "source": [
    "import warnings\n",
    "warnings.filterwarnings(\"ignore\")\n",
    "\n",
    "import pandas as pd\n",
    "import numpy as np\n",
    "import matplotlib.pyplot as plt"
   ]
  },
  {
   "cell_type": "markdown",
   "metadata": {},
   "source": [
    "<br>\n",
    "\n",
    "## 1. Preparing dataset"
   ]
  },
  {
   "cell_type": "markdown",
   "metadata": {},
   "source": [
    "#### Data info\n",
    "\n",
    "- **PassengerId** : Unique ID of passenger\n",
    "- **Survived** : 0 = No, 1 = Yes <- 우리 정답열\n",
    "- **pclass** : Ticket class (1 = 1st, 2 = 2nd, 3 = 3rd) <- 1,2,3등실\n",
    "- **sibsp** : # of siblings & spouses aboard the Titanic <- 본인 제외 형제자매배우자 수\n",
    "- name <- 버릴까 말까 고민해봐\n",
    "- sex <- 0/1로 변환 가능, replace or apply\n",
    "- age <- standard scaler 적용해야겠구나\n",
    "- **parch** : # of parents / children aboard the Titanic <- 본인 제외 부모 or 자식\n",
    "- **ticket** : Ticket number\n",
    "- fare <- 얼마내도 탔냐\n",
    "- **cabin** : Cabin number <-결측치 많아 고민해봐\n",
    "- **embarked** : Port of Embarkation (C = Cherbourg, Q = Queenstown, S = Southampton) <- 어디서 승선했는지 항구"
   ]
  },
  {
   "cell_type": "code",
   "execution_count": 56,
   "metadata": {
    "scrolled": true
   },
   "outputs": [
    {
     "data": {
      "text/html": [
       "<div>\n",
       "<style scoped>\n",
       "    .dataframe tbody tr th:only-of-type {\n",
       "        vertical-align: middle;\n",
       "    }\n",
       "\n",
       "    .dataframe tbody tr th {\n",
       "        vertical-align: top;\n",
       "    }\n",
       "\n",
       "    .dataframe thead th {\n",
       "        text-align: right;\n",
       "    }\n",
       "</style>\n",
       "<table border=\"1\" class=\"dataframe\">\n",
       "  <thead>\n",
       "    <tr style=\"text-align: right;\">\n",
       "      <th></th>\n",
       "      <th>PassengerId</th>\n",
       "      <th>Survived</th>\n",
       "      <th>Pclass</th>\n",
       "      <th>Name</th>\n",
       "      <th>Sex</th>\n",
       "      <th>Age</th>\n",
       "      <th>SibSp</th>\n",
       "      <th>Parch</th>\n",
       "      <th>Ticket</th>\n",
       "      <th>Fare</th>\n",
       "      <th>Cabin</th>\n",
       "      <th>Embarked</th>\n",
       "    </tr>\n",
       "  </thead>\n",
       "  <tbody>\n",
       "    <tr>\n",
       "      <th>0</th>\n",
       "      <td>1</td>\n",
       "      <td>0</td>\n",
       "      <td>3</td>\n",
       "      <td>Braund, Mr. Owen Harris</td>\n",
       "      <td>male</td>\n",
       "      <td>22.0</td>\n",
       "      <td>1</td>\n",
       "      <td>0</td>\n",
       "      <td>A/5 21171</td>\n",
       "      <td>7.2500</td>\n",
       "      <td>NaN</td>\n",
       "      <td>S</td>\n",
       "    </tr>\n",
       "    <tr>\n",
       "      <th>1</th>\n",
       "      <td>2</td>\n",
       "      <td>1</td>\n",
       "      <td>1</td>\n",
       "      <td>Cumings, Mrs. John Bradley (Florence Briggs Th...</td>\n",
       "      <td>female</td>\n",
       "      <td>38.0</td>\n",
       "      <td>1</td>\n",
       "      <td>0</td>\n",
       "      <td>PC 17599</td>\n",
       "      <td>71.2833</td>\n",
       "      <td>C85</td>\n",
       "      <td>C</td>\n",
       "    </tr>\n",
       "    <tr>\n",
       "      <th>2</th>\n",
       "      <td>3</td>\n",
       "      <td>1</td>\n",
       "      <td>3</td>\n",
       "      <td>Heikkinen, Miss. Laina</td>\n",
       "      <td>female</td>\n",
       "      <td>26.0</td>\n",
       "      <td>0</td>\n",
       "      <td>0</td>\n",
       "      <td>STON/O2. 3101282</td>\n",
       "      <td>7.9250</td>\n",
       "      <td>NaN</td>\n",
       "      <td>S</td>\n",
       "    </tr>\n",
       "    <tr>\n",
       "      <th>3</th>\n",
       "      <td>4</td>\n",
       "      <td>1</td>\n",
       "      <td>1</td>\n",
       "      <td>Futrelle, Mrs. Jacques Heath (Lily May Peel)</td>\n",
       "      <td>female</td>\n",
       "      <td>35.0</td>\n",
       "      <td>1</td>\n",
       "      <td>0</td>\n",
       "      <td>113803</td>\n",
       "      <td>53.1000</td>\n",
       "      <td>C123</td>\n",
       "      <td>S</td>\n",
       "    </tr>\n",
       "    <tr>\n",
       "      <th>4</th>\n",
       "      <td>5</td>\n",
       "      <td>0</td>\n",
       "      <td>3</td>\n",
       "      <td>Allen, Mr. William Henry</td>\n",
       "      <td>male</td>\n",
       "      <td>35.0</td>\n",
       "      <td>0</td>\n",
       "      <td>0</td>\n",
       "      <td>373450</td>\n",
       "      <td>8.0500</td>\n",
       "      <td>NaN</td>\n",
       "      <td>S</td>\n",
       "    </tr>\n",
       "  </tbody>\n",
       "</table>\n",
       "</div>"
      ],
      "text/plain": [
       "   PassengerId  Survived  Pclass  \\\n",
       "0            1         0       3   \n",
       "1            2         1       1   \n",
       "2            3         1       3   \n",
       "3            4         1       1   \n",
       "4            5         0       3   \n",
       "\n",
       "                                                Name     Sex   Age  SibSp  \\\n",
       "0                            Braund, Mr. Owen Harris    male  22.0      1   \n",
       "1  Cumings, Mrs. John Bradley (Florence Briggs Th...  female  38.0      1   \n",
       "2                             Heikkinen, Miss. Laina  female  26.0      0   \n",
       "3       Futrelle, Mrs. Jacques Heath (Lily May Peel)  female  35.0      1   \n",
       "4                           Allen, Mr. William Henry    male  35.0      0   \n",
       "\n",
       "   Parch            Ticket     Fare Cabin Embarked  \n",
       "0      0         A/5 21171   7.2500   NaN        S  \n",
       "1      0          PC 17599  71.2833   C85        C  \n",
       "2      0  STON/O2. 3101282   7.9250   NaN        S  \n",
       "3      0            113803  53.1000  C123        S  \n",
       "4      0            373450   8.0500   NaN        S  "
      ]
     },
     "execution_count": 56,
     "metadata": {},
     "output_type": "execute_result"
    }
   ],
   "source": [
    "data_df = pd.read_csv('titanic.csv')\n",
    "data_df.head()"
   ]
  },
  {
   "cell_type": "code",
   "execution_count": 57,
   "metadata": {},
   "outputs": [],
   "source": [
    "y_data = data_df[['Survived']]\n",
    "x_data = data_df.copy()"
   ]
  },
  {
   "cell_type": "markdown",
   "metadata": {},
   "source": [
    "<br>\n",
    "\n",
    "## 2. Feature engineering & Feature selection"
   ]
  },
  {
   "cell_type": "markdown",
   "metadata": {},
   "source": [
    "### a) 데이터 탐색"
   ]
  },
  {
   "cell_type": "code",
   "execution_count": 58,
   "metadata": {
    "scrolled": true
   },
   "outputs": [
    {
     "name": "stdout",
     "output_type": "stream",
     "text": [
      "<class 'pandas.core.frame.DataFrame'>\n",
      "RangeIndex: 891 entries, 0 to 890\n",
      "Data columns (total 12 columns):\n",
      "PassengerId    891 non-null int64\n",
      "Survived       891 non-null int64\n",
      "Pclass         891 non-null int64\n",
      "Name           891 non-null object\n",
      "Sex            891 non-null object\n",
      "Age            714 non-null float64\n",
      "SibSp          891 non-null int64\n",
      "Parch          891 non-null int64\n",
      "Ticket         891 non-null object\n",
      "Fare           891 non-null float64\n",
      "Cabin          204 non-null object\n",
      "Embarked       889 non-null object\n",
      "dtypes: float64(2), int64(5), object(5)\n",
      "memory usage: 83.6+ KB\n"
     ]
    }
   ],
   "source": [
    "x_data.info()\n",
    "# 1. Age열의 결측치 비율이 약 20% -> 결측치 포함 열을 떨구기엔 가진 데이터셋이 너무 적다 판단 -> 결측치 채우기\n",
    "# 2. Cabin열의 결측치 비율이 약 77% -> 유의미한 결과를 끌어내기 어렵겠다 판단 -> 열 삭제 \n",
    "# 3. Embarked열의 결측치 2개. (주관적인 판단) 결측치가 포함된 모든 열을 지워줘도 괜찮겠다 결과엔 크게 영향을 주지 않겠다 판단"
   ]
  },
  {
   "cell_type": "markdown",
   "metadata": {},
   "source": [
    "### b) 기존 열을 바탕으로 새로운 열 추가 "
   ]
  },
  {
   "cell_type": "code",
   "execution_count": 59,
   "metadata": {},
   "outputs": [
    {
     "data": {
      "text/plain": [
       "Pclass  Ticket  Fare \n",
       "1       110152  86.50    3\n",
       "        110413  79.65    3\n",
       "        110465  52.00    2\n",
       "        110564  26.55    1\n",
       "        110813  75.25    1\n",
       "dtype: int64"
      ]
     },
     "execution_count": 59,
     "metadata": {},
     "output_type": "execute_result"
    }
   ],
   "source": [
    "# 데이터 탐색 과정 중 발견한 것) \n",
    "# - 같은 Pclass라도 Ticket number에 따라 요금 편차가 매우 큼 (그 편차가 group에 비례)\n",
    "# - 3등석 Fare이 1등석 Fare보다 높은 경우 확인 (이 경우도 그 편차가 group수에 비례)\n",
    "# => (결론) Fare == 동일한 Ticket number를 가진 탑승자들의 총 요금 -> Fare/Group size == 단일 티켓의 가격\n",
    "x_data.groupby(['Pclass','Ticket','Fare']).size().head()"
   ]
  },
  {
   "cell_type": "code",
   "execution_count": 60,
   "metadata": {},
   "outputs": [],
   "source": [
    "# ticket count열 생성 \n",
    "grouped_ticket = pd.DataFrame(x_data.groupby(['Ticket']).size()).reset_index() # new grouped result\n",
    "grouped_ticket.columns = ['Ticket', 'Ticket Counts'] # set columns name\n",
    "x_data = x_data.merge(grouped_ticket, on='Ticket', how='left')"
   ]
  },
  {
   "cell_type": "code",
   "execution_count": 61,
   "metadata": {},
   "outputs": [],
   "source": [
    "# Fare per ticket 열 추가 \n",
    "x_data['Fare per ticket']  = round(x_data['Fare'] / x_data['Ticket Counts'],4)"
   ]
  },
  {
   "cell_type": "code",
   "execution_count": 62,
   "metadata": {},
   "outputs": [],
   "source": [
    "# 추가) SibSp (형제자매,배우자) & Parch (부모, 자식) & Ticket Counts를 보면, 동승자의 존재 여부를 알 수 있을 것. => 모두 더해 1이면 동승자 X, 1이 아니면 동승자 O. \n",
    "# Group (==추정 동승자 수 ) 열 추가 \n",
    "x_data['Group'] = x_data['SibSp'] + x_data['Parch'] + x_data['Ticket Counts']\n",
    "x_data['Group'] = x_data['Group'].apply(lambda x : 0 if x == 1 else 1)"
   ]
  },
  {
   "cell_type": "code",
   "execution_count": 63,
   "metadata": {},
   "outputs": [
    {
     "data": {
      "text/html": [
       "<div>\n",
       "<style scoped>\n",
       "    .dataframe tbody tr th:only-of-type {\n",
       "        vertical-align: middle;\n",
       "    }\n",
       "\n",
       "    .dataframe tbody tr th {\n",
       "        vertical-align: top;\n",
       "    }\n",
       "\n",
       "    .dataframe thead th {\n",
       "        text-align: right;\n",
       "    }\n",
       "</style>\n",
       "<table border=\"1\" class=\"dataframe\">\n",
       "  <thead>\n",
       "    <tr style=\"text-align: right;\">\n",
       "      <th></th>\n",
       "      <th>PassengerId</th>\n",
       "      <th>Survived</th>\n",
       "      <th>Pclass</th>\n",
       "      <th>Name</th>\n",
       "      <th>Sex</th>\n",
       "      <th>Age</th>\n",
       "      <th>SibSp</th>\n",
       "      <th>Parch</th>\n",
       "      <th>Ticket</th>\n",
       "      <th>Fare</th>\n",
       "      <th>Cabin</th>\n",
       "      <th>Embarked</th>\n",
       "      <th>Ticket Counts</th>\n",
       "      <th>Fare per ticket</th>\n",
       "      <th>Group</th>\n",
       "    </tr>\n",
       "  </thead>\n",
       "  <tbody>\n",
       "    <tr>\n",
       "      <th>0</th>\n",
       "      <td>1</td>\n",
       "      <td>0</td>\n",
       "      <td>3</td>\n",
       "      <td>Braund, Mr. Owen Harris</td>\n",
       "      <td>male</td>\n",
       "      <td>22.0</td>\n",
       "      <td>1</td>\n",
       "      <td>0</td>\n",
       "      <td>A/5 21171</td>\n",
       "      <td>7.2500</td>\n",
       "      <td>NaN</td>\n",
       "      <td>S</td>\n",
       "      <td>1</td>\n",
       "      <td>7.2500</td>\n",
       "      <td>1</td>\n",
       "    </tr>\n",
       "    <tr>\n",
       "      <th>1</th>\n",
       "      <td>2</td>\n",
       "      <td>1</td>\n",
       "      <td>1</td>\n",
       "      <td>Cumings, Mrs. John Bradley (Florence Briggs Th...</td>\n",
       "      <td>female</td>\n",
       "      <td>38.0</td>\n",
       "      <td>1</td>\n",
       "      <td>0</td>\n",
       "      <td>PC 17599</td>\n",
       "      <td>71.2833</td>\n",
       "      <td>C85</td>\n",
       "      <td>C</td>\n",
       "      <td>1</td>\n",
       "      <td>71.2833</td>\n",
       "      <td>1</td>\n",
       "    </tr>\n",
       "    <tr>\n",
       "      <th>2</th>\n",
       "      <td>3</td>\n",
       "      <td>1</td>\n",
       "      <td>3</td>\n",
       "      <td>Heikkinen, Miss. Laina</td>\n",
       "      <td>female</td>\n",
       "      <td>26.0</td>\n",
       "      <td>0</td>\n",
       "      <td>0</td>\n",
       "      <td>STON/O2. 3101282</td>\n",
       "      <td>7.9250</td>\n",
       "      <td>NaN</td>\n",
       "      <td>S</td>\n",
       "      <td>1</td>\n",
       "      <td>7.9250</td>\n",
       "      <td>0</td>\n",
       "    </tr>\n",
       "  </tbody>\n",
       "</table>\n",
       "</div>"
      ],
      "text/plain": [
       "   PassengerId  Survived  Pclass  \\\n",
       "0            1         0       3   \n",
       "1            2         1       1   \n",
       "2            3         1       3   \n",
       "\n",
       "                                                Name     Sex   Age  SibSp  \\\n",
       "0                            Braund, Mr. Owen Harris    male  22.0      1   \n",
       "1  Cumings, Mrs. John Bradley (Florence Briggs Th...  female  38.0      1   \n",
       "2                             Heikkinen, Miss. Laina  female  26.0      0   \n",
       "\n",
       "   Parch            Ticket     Fare Cabin Embarked  Ticket Counts  \\\n",
       "0      0         A/5 21171   7.2500   NaN        S              1   \n",
       "1      0          PC 17599  71.2833   C85        C              1   \n",
       "2      0  STON/O2. 3101282   7.9250   NaN        S              1   \n",
       "\n",
       "   Fare per ticket  Group  \n",
       "0           7.2500      1  \n",
       "1          71.2833      1  \n",
       "2           7.9250      0  "
      ]
     },
     "execution_count": 63,
     "metadata": {},
     "output_type": "execute_result"
    }
   ],
   "source": [
    "x_data.head(3)"
   ]
  },
  {
   "cell_type": "code",
   "execution_count": 64,
   "metadata": {},
   "outputs": [
    {
     "name": "stdout",
     "output_type": "stream",
     "text": [
      "{'Dr', 'Lady', 'Miss', 'Ms', 'Mlle', 'Capt', 'Mrs', 'Rev', 'Sir', 'Don', 'Col', 'the Countess', 'Jonkheer', 'Major', 'Mr', 'Master', 'Mme'}\n"
     ]
    }
   ],
   "source": [
    "# Name 열: 열마다 title이 다름\n",
    "names = list(data_df['Name'])\n",
    "titles = []\n",
    "for name in names:\n",
    "    title = name.split(', ')[1].split('.')[0]\n",
    "    titles.append(title)\n",
    "print(set(titles))\n",
    "\n",
    "def popTitle(name):\n",
    "    title = name.split(', ')[1].split('.')[0]\n",
    "    return title\n",
    "\n",
    "x_data['Name'] = x_data['Name'].apply(lambda x : popTitle(x))\n",
    "\n",
    "# # 여기서 x_data 는 원본 데이터\n",
    "# temp = x_data[x_data['Age'].notna()] #isnull()\n",
    "\n",
    "# names = list(temp['Name'])\n",
    "# titles = []\n",
    "# for name in names:\n",
    "#     title = name.split(', ')[1].split('.')[0]\n",
    "#     titles.append(title)\n",
    "# print(set(titles))\n",
    "# temp.info()"
   ]
  },
  {
   "cell_type": "markdown",
   "metadata": {},
   "source": [
    "<군 계급>\n",
    "Major - (군에서) 가장 높은 계급\n",
    "Col - 두번째로 높은 계급\n",
    "Capt - 세번째로 높은 계급 \n",
    "-> 군 title을 가진 사람 1, 아닌 사람 0 -> military 열 추가\n",
    "\n",
    "<귀족 계급>\n",
    "Jonkheer - 가장 낮은 계급의 귀족\n",
    "the Countess -  귀족\n",
    "Lady -  왕족 딸\n",
    "-> 귀족 계급인 사람 1, 아닌 사람 0 -> nobility 열 추가\n",
    "\n",
    "<나이(?)>\n",
    "Don - 고령자\n",
    "Master - 어린 남자 아이, Lady - 왕족 딸, Miss & Mlle - 미혼 여성\n",
    "-> Master/Lady/Miss/Mller 0, 위에 기재되지 않은 title 1, 고령자 2 -> est_age 열 추가"
   ]
  },
  {
   "cell_type": "code",
   "execution_count": 65,
   "metadata": {},
   "outputs": [],
   "source": [
    "x_data['Group'] = x_data['Group'].apply(lambda x : 0 if x == 1 else 1)  # 0: 혼자/ 1: 동행인이 있는 경우\n",
    "\n",
    "x_data['Military'] = x_data['Name'].apply(lambda x : 0 if x in ['Major','Col','Capt'] else 1)\n",
    "\n",
    "x_data['Nobility'] = x_data['Name'].apply(lambda x : 0 if x in ['Jonkheer','the Countess','Lady'] else 1)\n",
    "\n",
    "x_data['est_age'] = x_data['Name'].apply(lambda x : 2 if x=='Don' else (0 if x in ['Master','Lady','Miss','Mlle'] else 1))"
   ]
  },
  {
   "cell_type": "code",
   "execution_count": 66,
   "metadata": {},
   "outputs": [
    {
     "name": "stdout",
     "output_type": "stream",
     "text": [
      "<class 'pandas.core.frame.DataFrame'>\n",
      "Int64Index: 891 entries, 0 to 890\n",
      "Data columns (total 18 columns):\n",
      "PassengerId        891 non-null int64\n",
      "Survived           891 non-null int64\n",
      "Pclass             891 non-null int64\n",
      "Name               891 non-null object\n",
      "Sex                891 non-null object\n",
      "Age                714 non-null float64\n",
      "SibSp              891 non-null int64\n",
      "Parch              891 non-null int64\n",
      "Ticket             891 non-null object\n",
      "Fare               891 non-null float64\n",
      "Cabin              204 non-null object\n",
      "Embarked           889 non-null object\n",
      "Ticket Counts      891 non-null int64\n",
      "Fare per ticket    891 non-null float64\n",
      "Group              891 non-null int64\n",
      "Military           891 non-null int64\n",
      "Nobility           891 non-null int64\n",
      "est_age            891 non-null int64\n",
      "dtypes: float64(3), int64(10), object(5)\n",
      "memory usage: 132.3+ KB\n"
     ]
    }
   ],
   "source": [
    "x_data.info()"
   ]
  },
  {
   "cell_type": "markdown",
   "metadata": {},
   "source": [
    "### c) 불필요한 열/행 제거 "
   ]
  },
  {
   "cell_type": "code",
   "execution_count": 67,
   "metadata": {},
   "outputs": [],
   "source": [
    "# 2. 불필요한 열 제거 : Cabin + PassengerId (고유값) , Name, Ticket, \n",
    "del x_data['Cabin']\n",
    "del x_data['PassengerId']\n",
    "del x_data['Name']\n",
    "del x_data['Ticket']"
   ]
  },
  {
   "cell_type": "code",
   "execution_count": 68,
   "metadata": {},
   "outputs": [],
   "source": [
    "# 3. Embarked에 결측치가 포함 행 제거 \n",
    "x_data = x_data.dropna(subset=['Embarked'])"
   ]
  },
  {
   "cell_type": "markdown",
   "metadata": {},
   "source": [
    "### d) Numeric -> Categorical data 변환"
   ]
  },
  {
   "cell_type": "code",
   "execution_count": 69,
   "metadata": {
    "scrolled": true
   },
   "outputs": [],
   "source": [
    "# (모델의 정확도 향상을 기대)\n",
    "# 형제자매/배우자 유무\n",
    "x_data['SibSp']=x_data['SibSp'].apply(lambda x : 0 if x == 0 else 1)\n",
    "# 부모/자식 유무\n",
    "x_data['Parch']=x_data['Parch'].apply(lambda x : 0 if x == 0 else 1)"
   ]
  },
  {
   "cell_type": "markdown",
   "metadata": {},
   "source": [
    "### e) Text -> Number data 변환"
   ]
  },
  {
   "cell_type": "code",
   "execution_count": 70,
   "metadata": {},
   "outputs": [],
   "source": [
    "# Sex 열) male = 0, female = 1\n",
    "x_data['Sex']=x_data['Sex'].apply(lambda x : 0 if x == 'male' else 1)\n",
    "\n",
    "# Group 열) 개인 = 0, 동승자가 있다면 = 1\n",
    "x_data['Group'] = x_data['Group'].apply(lambda x : 0 if x == 1 else 1)\n",
    "\n",
    "# Embarked / C: 0, Q:1 , S:2\n",
    "x_data['Embarked'] = x_data['Embarked'].apply(lambda x : 0 if x== 'C' else (1 if x=='Q' else 2))"
   ]
  },
  {
   "cell_type": "markdown",
   "metadata": {},
   "source": [
    "### f) 결측치 채우기 "
   ]
  },
  {
   "cell_type": "code",
   "execution_count": 71,
   "metadata": {},
   "outputs": [
    {
     "data": {
      "text/html": [
       "<div>\n",
       "<style scoped>\n",
       "    .dataframe tbody tr th:only-of-type {\n",
       "        vertical-align: middle;\n",
       "    }\n",
       "\n",
       "    .dataframe tbody tr th {\n",
       "        vertical-align: top;\n",
       "    }\n",
       "\n",
       "    .dataframe thead th {\n",
       "        text-align: right;\n",
       "    }\n",
       "</style>\n",
       "<table border=\"1\" class=\"dataframe\">\n",
       "  <thead>\n",
       "    <tr style=\"text-align: right;\">\n",
       "      <th></th>\n",
       "      <th>Survived</th>\n",
       "      <th>Pclass</th>\n",
       "      <th>Sex</th>\n",
       "      <th>Age</th>\n",
       "      <th>SibSp</th>\n",
       "      <th>Parch</th>\n",
       "      <th>Fare</th>\n",
       "      <th>Embarked</th>\n",
       "      <th>Ticket Counts</th>\n",
       "      <th>Fare per ticket</th>\n",
       "      <th>Group</th>\n",
       "      <th>Military</th>\n",
       "      <th>Nobility</th>\n",
       "      <th>est_age</th>\n",
       "    </tr>\n",
       "  </thead>\n",
       "  <tbody>\n",
       "    <tr>\n",
       "      <th>Embarked</th>\n",
       "      <td>0.169718</td>\n",
       "      <td>0.164681</td>\n",
       "      <td>0.110320</td>\n",
       "      <td>0.032565</td>\n",
       "      <td>0.013810</td>\n",
       "      <td>0.003172</td>\n",
       "      <td>0.226311</td>\n",
       "      <td>1.000000</td>\n",
       "      <td>0.049243</td>\n",
       "      <td>0.276080</td>\n",
       "      <td>0.098489</td>\n",
       "      <td>0.006134</td>\n",
       "      <td>0.014855</td>\n",
       "      <td>0.066442</td>\n",
       "    </tr>\n",
       "    <tr>\n",
       "      <th>Nobility</th>\n",
       "      <td>0.034030</td>\n",
       "      <td>0.091486</td>\n",
       "      <td>0.038492</td>\n",
       "      <td>0.045025</td>\n",
       "      <td>0.001873</td>\n",
       "      <td>0.032663</td>\n",
       "      <td>0.011641</td>\n",
       "      <td>0.014855</td>\n",
       "      <td>0.005159</td>\n",
       "      <td>0.013919</td>\n",
       "      <td>0.021704</td>\n",
       "      <td>0.004376</td>\n",
       "      <td>1.000000</td>\n",
       "      <td>0.011341</td>\n",
       "    </tr>\n",
       "    <tr>\n",
       "      <th>Survived</th>\n",
       "      <td>1.000000</td>\n",
       "      <td>0.335549</td>\n",
       "      <td>0.541585</td>\n",
       "      <td>0.082446</td>\n",
       "      <td>0.118087</td>\n",
       "      <td>0.149328</td>\n",
       "      <td>0.255290</td>\n",
       "      <td>0.169718</td>\n",
       "      <td>0.037872</td>\n",
       "      <td>0.252607</td>\n",
       "      <td>0.239482</td>\n",
       "      <td>0.002716</td>\n",
       "      <td>0.034030</td>\n",
       "      <td>0.348568</td>\n",
       "    </tr>\n",
       "    <tr>\n",
       "      <th>Fare</th>\n",
       "      <td>0.255290</td>\n",
       "      <td>0.548193</td>\n",
       "      <td>0.179958</td>\n",
       "      <td>0.093143</td>\n",
       "      <td>0.193970</td>\n",
       "      <td>0.239264</td>\n",
       "      <td>1.000000</td>\n",
       "      <td>0.226311</td>\n",
       "      <td>0.345573</td>\n",
       "      <td>0.838678</td>\n",
       "      <td>0.403348</td>\n",
       "      <td>0.008969</td>\n",
       "      <td>0.011641</td>\n",
       "      <td>0.114479</td>\n",
       "    </tr>\n",
       "    <tr>\n",
       "      <th>Sex</th>\n",
       "      <td>0.541585</td>\n",
       "      <td>0.127741</td>\n",
       "      <td>1.000000</td>\n",
       "      <td>0.099037</td>\n",
       "      <td>0.205817</td>\n",
       "      <td>0.249837</td>\n",
       "      <td>0.179958</td>\n",
       "      <td>0.110320</td>\n",
       "      <td>0.154597</td>\n",
       "      <td>0.126031</td>\n",
       "      <td>0.316734</td>\n",
       "      <td>0.055303</td>\n",
       "      <td>0.038492</td>\n",
       "      <td>0.566127</td>\n",
       "    </tr>\n",
       "    <tr>\n",
       "      <th>Military</th>\n",
       "      <td>0.002716</td>\n",
       "      <td>0.118241</td>\n",
       "      <td>0.055303</td>\n",
       "      <td>0.156535</td>\n",
       "      <td>0.019105</td>\n",
       "      <td>0.006977</td>\n",
       "      <td>0.008969</td>\n",
       "      <td>0.006134</td>\n",
       "      <td>0.032438</td>\n",
       "      <td>0.046751</td>\n",
       "      <td>0.042196</td>\n",
       "      <td>1.000000</td>\n",
       "      <td>0.004376</td>\n",
       "      <td>0.043000</td>\n",
       "    </tr>\n",
       "    <tr>\n",
       "      <th>SibSp</th>\n",
       "      <td>0.118087</td>\n",
       "      <td>0.078671</td>\n",
       "      <td>0.205817</td>\n",
       "      <td>0.160784</td>\n",
       "      <td>1.000000</td>\n",
       "      <td>0.419741</td>\n",
       "      <td>0.193970</td>\n",
       "      <td>0.013810</td>\n",
       "      <td>0.441797</td>\n",
       "      <td>0.091484</td>\n",
       "      <td>0.710827</td>\n",
       "      <td>0.019105</td>\n",
       "      <td>0.001873</td>\n",
       "      <td>0.131335</td>\n",
       "    </tr>\n",
       "    <tr>\n",
       "      <th>Group</th>\n",
       "      <td>0.239482</td>\n",
       "      <td>0.216036</td>\n",
       "      <td>0.316734</td>\n",
       "      <td>0.187924</td>\n",
       "      <td>0.710827</td>\n",
       "      <td>0.583880</td>\n",
       "      <td>0.403348</td>\n",
       "      <td>0.098489</td>\n",
       "      <td>0.601406</td>\n",
       "      <td>0.240503</td>\n",
       "      <td>1.000000</td>\n",
       "      <td>0.042196</td>\n",
       "      <td>0.021704</td>\n",
       "      <td>0.216712</td>\n",
       "    </tr>\n",
       "    <tr>\n",
       "      <th>Fare per ticket</th>\n",
       "      <td>0.252607</td>\n",
       "      <td>0.654483</td>\n",
       "      <td>0.126031</td>\n",
       "      <td>0.224867</td>\n",
       "      <td>0.091484</td>\n",
       "      <td>0.102253</td>\n",
       "      <td>0.838678</td>\n",
       "      <td>0.276080</td>\n",
       "      <td>0.013503</td>\n",
       "      <td>1.000000</td>\n",
       "      <td>0.240503</td>\n",
       "      <td>0.046751</td>\n",
       "      <td>0.013919</td>\n",
       "      <td>0.012166</td>\n",
       "    </tr>\n",
       "    <tr>\n",
       "      <th>Ticket Counts</th>\n",
       "      <td>0.037872</td>\n",
       "      <td>0.002089</td>\n",
       "      <td>0.154597</td>\n",
       "      <td>0.255000</td>\n",
       "      <td>0.441797</td>\n",
       "      <td>0.534633</td>\n",
       "      <td>0.345573</td>\n",
       "      <td>0.049243</td>\n",
       "      <td>1.000000</td>\n",
       "      <td>0.013503</td>\n",
       "      <td>0.601406</td>\n",
       "      <td>0.032438</td>\n",
       "      <td>0.005159</td>\n",
       "      <td>0.252627</td>\n",
       "    </tr>\n",
       "    <tr>\n",
       "      <th>Parch</th>\n",
       "      <td>0.149328</td>\n",
       "      <td>0.029593</td>\n",
       "      <td>0.249837</td>\n",
       "      <td>0.279417</td>\n",
       "      <td>0.419741</td>\n",
       "      <td>1.000000</td>\n",
       "      <td>0.239264</td>\n",
       "      <td>0.003172</td>\n",
       "      <td>0.534633</td>\n",
       "      <td>0.102253</td>\n",
       "      <td>0.583880</td>\n",
       "      <td>0.006977</td>\n",
       "      <td>0.032663</td>\n",
       "      <td>0.303357</td>\n",
       "    </tr>\n",
       "    <tr>\n",
       "      <th>Pclass</th>\n",
       "      <td>0.335549</td>\n",
       "      <td>1.000000</td>\n",
       "      <td>0.127741</td>\n",
       "      <td>0.365902</td>\n",
       "      <td>0.078671</td>\n",
       "      <td>0.029593</td>\n",
       "      <td>0.548193</td>\n",
       "      <td>0.164681</td>\n",
       "      <td>0.002089</td>\n",
       "      <td>0.654483</td>\n",
       "      <td>0.216036</td>\n",
       "      <td>0.118241</td>\n",
       "      <td>0.091486</td>\n",
       "      <td>0.040748</td>\n",
       "    </tr>\n",
       "    <tr>\n",
       "      <th>est_age</th>\n",
       "      <td>0.348568</td>\n",
       "      <td>0.040748</td>\n",
       "      <td>0.566127</td>\n",
       "      <td>0.453576</td>\n",
       "      <td>0.131335</td>\n",
       "      <td>0.303357</td>\n",
       "      <td>0.114479</td>\n",
       "      <td>0.066442</td>\n",
       "      <td>0.252627</td>\n",
       "      <td>0.012166</td>\n",
       "      <td>0.216712</td>\n",
       "      <td>0.043000</td>\n",
       "      <td>0.011341</td>\n",
       "      <td>1.000000</td>\n",
       "    </tr>\n",
       "    <tr>\n",
       "      <th>Age</th>\n",
       "      <td>0.082446</td>\n",
       "      <td>0.365902</td>\n",
       "      <td>0.099037</td>\n",
       "      <td>1.000000</td>\n",
       "      <td>0.160784</td>\n",
       "      <td>0.279417</td>\n",
       "      <td>0.093143</td>\n",
       "      <td>0.032565</td>\n",
       "      <td>0.255000</td>\n",
       "      <td>0.224867</td>\n",
       "      <td>0.187924</td>\n",
       "      <td>0.156535</td>\n",
       "      <td>0.045025</td>\n",
       "      <td>0.453576</td>\n",
       "    </tr>\n",
       "  </tbody>\n",
       "</table>\n",
       "</div>"
      ],
      "text/plain": [
       "                 Survived    Pclass       Sex       Age     SibSp     Parch  \\\n",
       "Embarked         0.169718  0.164681  0.110320  0.032565  0.013810  0.003172   \n",
       "Nobility         0.034030  0.091486  0.038492  0.045025  0.001873  0.032663   \n",
       "Survived         1.000000  0.335549  0.541585  0.082446  0.118087  0.149328   \n",
       "Fare             0.255290  0.548193  0.179958  0.093143  0.193970  0.239264   \n",
       "Sex              0.541585  0.127741  1.000000  0.099037  0.205817  0.249837   \n",
       "Military         0.002716  0.118241  0.055303  0.156535  0.019105  0.006977   \n",
       "SibSp            0.118087  0.078671  0.205817  0.160784  1.000000  0.419741   \n",
       "Group            0.239482  0.216036  0.316734  0.187924  0.710827  0.583880   \n",
       "Fare per ticket  0.252607  0.654483  0.126031  0.224867  0.091484  0.102253   \n",
       "Ticket Counts    0.037872  0.002089  0.154597  0.255000  0.441797  0.534633   \n",
       "Parch            0.149328  0.029593  0.249837  0.279417  0.419741  1.000000   \n",
       "Pclass           0.335549  1.000000  0.127741  0.365902  0.078671  0.029593   \n",
       "est_age          0.348568  0.040748  0.566127  0.453576  0.131335  0.303357   \n",
       "Age              0.082446  0.365902  0.099037  1.000000  0.160784  0.279417   \n",
       "\n",
       "                     Fare  Embarked  Ticket Counts  Fare per ticket     Group  \\\n",
       "Embarked         0.226311  1.000000       0.049243         0.276080  0.098489   \n",
       "Nobility         0.011641  0.014855       0.005159         0.013919  0.021704   \n",
       "Survived         0.255290  0.169718       0.037872         0.252607  0.239482   \n",
       "Fare             1.000000  0.226311       0.345573         0.838678  0.403348   \n",
       "Sex              0.179958  0.110320       0.154597         0.126031  0.316734   \n",
       "Military         0.008969  0.006134       0.032438         0.046751  0.042196   \n",
       "SibSp            0.193970  0.013810       0.441797         0.091484  0.710827   \n",
       "Group            0.403348  0.098489       0.601406         0.240503  1.000000   \n",
       "Fare per ticket  0.838678  0.276080       0.013503         1.000000  0.240503   \n",
       "Ticket Counts    0.345573  0.049243       1.000000         0.013503  0.601406   \n",
       "Parch            0.239264  0.003172       0.534633         0.102253  0.583880   \n",
       "Pclass           0.548193  0.164681       0.002089         0.654483  0.216036   \n",
       "est_age          0.114479  0.066442       0.252627         0.012166  0.216712   \n",
       "Age              0.093143  0.032565       0.255000         0.224867  0.187924   \n",
       "\n",
       "                 Military  Nobility   est_age  \n",
       "Embarked         0.006134  0.014855  0.066442  \n",
       "Nobility         0.004376  1.000000  0.011341  \n",
       "Survived         0.002716  0.034030  0.348568  \n",
       "Fare             0.008969  0.011641  0.114479  \n",
       "Sex              0.055303  0.038492  0.566127  \n",
       "Military         1.000000  0.004376  0.043000  \n",
       "SibSp            0.019105  0.001873  0.131335  \n",
       "Group            0.042196  0.021704  0.216712  \n",
       "Fare per ticket  0.046751  0.013919  0.012166  \n",
       "Ticket Counts    0.032438  0.005159  0.252627  \n",
       "Parch            0.006977  0.032663  0.303357  \n",
       "Pclass           0.118241  0.091486  0.040748  \n",
       "est_age          0.043000  0.011341  1.000000  \n",
       "Age              0.156535  0.045025  0.453576  "
      ]
     },
     "execution_count": 71,
     "metadata": {},
     "output_type": "execute_result"
    }
   ],
   "source": [
    "x_data.corr().abs().sort_values(by='Age') # 상관관계가 높은 열 순서 "
   ]
  },
  {
   "cell_type": "code",
   "execution_count": 72,
   "metadata": {},
   "outputs": [
    {
     "name": "stdout",
     "output_type": "stream",
     "text": [
      "SVR(C=1.0, cache_size=200, coef0=0.0, degree=3, epsilon=0.1,\n",
      "  gamma='auto_deprecated', kernel='rbf', max_iter=-1, shrinking=True,\n",
      "  tol=0.001, verbose=False)\n",
      "MSE(Training data) :  172.82471811232057\n",
      "SGDRegressor(alpha=0.0001, average=False, early_stopping=False, epsilon=0.1,\n",
      "       eta0=0.01, fit_intercept=True, l1_ratio=0.15,\n",
      "       learning_rate='invscaling', loss='squared_loss', max_iter=None,\n",
      "       n_iter=None, n_iter_no_change=5, penalty='l2', power_t=0.25,\n",
      "       random_state=None, shuffle=True, tol=None, validation_fraction=0.1,\n",
      "       verbose=0, warm_start=False)\n",
      "MSE(Training data) :  2.212070596358961e+25\n",
      "BayesianRidge(alpha_1=1e-06, alpha_2=1e-06, compute_score=False, copy_X=True,\n",
      "       fit_intercept=True, lambda_1=1e-06, lambda_2=1e-06, n_iter=300,\n",
      "       normalize=False, tol=0.001, verbose=False)\n",
      "MSE(Training data) :  115.42047944599396\n",
      "LassoLars(alpha=1.0, copy_X=True, eps=2.220446049250313e-16,\n",
      "     fit_intercept=True, fit_path=True, max_iter=500, normalize=True,\n",
      "     positive=False, precompute='auto', verbose=False)\n",
      "MSE(Training data) :  202.02277853905582\n",
      "ARDRegression(alpha_1=1e-06, alpha_2=1e-06, compute_score=False, copy_X=True,\n",
      "       fit_intercept=True, lambda_1=1e-06, lambda_2=1e-06, n_iter=300,\n",
      "       normalize=False, threshold_lambda=10000.0, tol=0.001, verbose=False)\n",
      "MSE(Training data) :  115.87751520467364\n",
      "PassiveAggressiveRegressor(C=1.0, average=False, early_stopping=False,\n",
      "              epsilon=0.1, fit_intercept=True, loss='epsilon_insensitive',\n",
      "              max_iter=None, n_iter=None, n_iter_no_change=5,\n",
      "              random_state=None, shuffle=True, tol=None,\n",
      "              validation_fraction=0.1, verbose=0, warm_start=False)\n",
      "MSE(Training data) :  472.40062366495636\n",
      "TheilSenRegressor(copy_X=True, fit_intercept=True, max_iter=300,\n",
      "         max_subpopulation=10000, n_jobs=None, n_subsamples=None,\n",
      "         random_state=None, tol=0.001, verbose=False)\n",
      "MSE(Training data) :  118.9654741861607\n",
      "LinearRegression(copy_X=True, fit_intercept=True, n_jobs=None,\n",
      "         normalize=False)\n",
      "MSE(Training data) :  114.99046876212421\n"
     ]
    }
   ],
   "source": [
    "# 1. Age 열 결측치 채우기 \n",
    "# Age 결측치를 채워주는 방법으로, 가지고있는 714개의 데이터 바탕 -> 여러 회귀 모델을 돌려 -> MSE값이 가장 낮은 모델로 얻은 예측치 -> 결측치 값 추가\n",
    "\n",
    "import numpy as np\n",
    "from sklearn import linear_model\n",
    "from sklearn import svm\n",
    "from sklearn.metrics import mean_squared_error\n",
    "from sklearn.model_selection import train_test_split\n",
    "\n",
    "x_data_withAge = x_data[x_data['Age'].notna()] # age 값이 있는 행만 추린 df\n",
    "\n",
    "\n",
    "classifiers = [\n",
    "    svm.SVR(),\n",
    "    linear_model.SGDRegressor(), # MSE < 1. MSE가 가장 작게 나옴. \n",
    "    linear_model.BayesianRidge(),\n",
    "    linear_model.LassoLars(),\n",
    "    linear_model.ARDRegression(),\n",
    "    linear_model.PassiveAggressiveRegressor(),\n",
    "    linear_model.TheilSenRegressor(),\n",
    "    linear_model.LinearRegression()]\n",
    "\n",
    "X = np.array(x_data_withAge[x_data_withAge.columns.difference(['Age'])]) # Age를 제외한 모든 열\n",
    "y = np.array(x_data_withAge['Age'])\n",
    "\n",
    "X_train, X_test, y_train, y_test = train_test_split(X,y,test_size=0.3,random_state=0)\n",
    "\n",
    "\n",
    "for item in classifiers:\n",
    "    print(item)\n",
    "    model = item\n",
    "    model.fit(X_train, y_train)\n",
    "    print('MSE(Training data) : ', mean_squared_error(model.predict(X_train), y_train))\n",
    "    \n",
    "## **다른 모델 데이터도 추가 -> 성능 비교 -> 다음 cell clf 결정할 것 "
   ]
  },
  {
   "cell_type": "code",
   "execution_count": 73,
   "metadata": {},
   "outputs": [],
   "source": [
    "# 결측치 추가 (**우선적으로 SGDRegressor 모델로 채움. 추후 다른 모델과 성능 비교 후 수정 필요)\n",
    "clf = classifiers[-1]\n",
    "\n",
    "age_pred = clf.predict(x_data[x_data.columns.difference(['Age'])])\n",
    "\n",
    "x_data['Age'].fillna(pd.Series(age_pred.flatten()), inplace=True) "
   ]
  },
  {
   "cell_type": "code",
   "execution_count": 74,
   "metadata": {},
   "outputs": [
    {
     "name": "stdout",
     "output_type": "stream",
     "text": [
      "<class 'pandas.core.frame.DataFrame'>\n",
      "Int64Index: 889 entries, 0 to 890\n",
      "Data columns (total 14 columns):\n",
      "Survived           889 non-null int64\n",
      "Pclass             889 non-null int64\n",
      "Sex                889 non-null int64\n",
      "Age                889 non-null float64\n",
      "SibSp              889 non-null int64\n",
      "Parch              889 non-null int64\n",
      "Fare               889 non-null float64\n",
      "Embarked           889 non-null int64\n",
      "Ticket Counts      889 non-null int64\n",
      "Fare per ticket    889 non-null float64\n",
      "Group              889 non-null int64\n",
      "Military           889 non-null int64\n",
      "Nobility           889 non-null int64\n",
      "est_age            889 non-null int64\n",
      "dtypes: float64(3), int64(11)\n",
      "memory usage: 104.2 KB\n"
     ]
    }
   ],
   "source": [
    "x_data.info()"
   ]
  },
  {
   "cell_type": "markdown",
   "metadata": {},
   "source": [
    "## 2. Train - Test split (비율을 7:3 으로 유지해주시고, seed는 0을 적용해주세요)"
   ]
  },
  {
   "cell_type": "code",
   "execution_count": 75,
   "metadata": {},
   "outputs": [],
   "source": [
    "import numpy as np\n",
    "import pandas as pd\n",
    "from sklearn.metrics import mean_squared_error\n",
    "from sklearn.model_selection import train_test_split\n",
    "from sklearn.preprocessing import RobustScaler\n",
    "from sklearn.pipeline import Pipeline\n",
    "from sklearn.datasets import make_regression,make_classification\n",
    "from sklearn.compose import ColumnTransformer\n",
    "from sklearn.preprocessing import StandardScaler, OneHotEncoder\n",
    "from sklearn.impute import SimpleImputer\n",
    "from sklearn.linear_model import LogisticRegression\n",
    "from sklearn import datasets, model_selection, linear_model\n",
    "from sklearn import neighbors\n",
    "from sklearn import datasets, ensemble\n",
    "from sklearn.utils import shuffle\n",
    "from sklearn.ensemble import RandomForestClassifier\n",
    "from sklearn import model_selection\n",
    "from sklearn.svm import SVC\n",
    "from sklearn.metrics import mean_squared_error, accuracy_score, roc_curve, auc"
   ]
  },
  {
   "cell_type": "markdown",
   "metadata": {},
   "source": [
    "### Logistic Regression 모델\n",
    "- 이진 분류문제를 해결하기 위한 모델\n",
    "- 데이터의 정규 분포도에 따라 예측 성능 영향을 받을 수 있으므로 정규 분포 형태의 표준 스케일링을 적용\n",
    "- C 값을 hyper-parameter로 받음"
   ]
  },
  {
   "cell_type": "code",
   "execution_count": 76,
   "metadata": {},
   "outputs": [
    {
     "name": "stdout",
     "output_type": "stream",
     "text": [
      "-----Pipeline(memory=None,\n",
      "     steps=[('preprocessor', ColumnTransformer(n_jobs=None, remainder='drop', sparse_threshold=0.3,\n",
      "         transformer_weights=None,\n",
      "         transformers=[('num', StandardScaler(copy=True, with_mean=True, with_std=True), ['Age', 'Fare', 'Ticket Counts', 'Fare per ticket', 'est_age']), ('cat', OneHotEn...penalty='l2', random_state=None, solver='warn',\n",
      "          tol=0.0001, verbose=0, warm_start=False))])-----\n",
      "Accuracy(Prediction) score:  0.7716535433070866\n",
      "AUC:  0.8097048108861031\n"
     ]
    }
   ],
   "source": [
    "# 로지스틱회귀로 예측모델 검증하기\n",
    "logistic_X = x_data[x_data.columns.difference(['Survived'])] # Survived열 제외 모든 열을 X값으로 \n",
    "logistic_Y = np.array(x_data['Survived']) # Survived열을 y값으로\n",
    "\n",
    "# Create model object \n",
    "model_logistic = linear_model.LogisticRegression(C=5)\n",
    "\n",
    "# <Feature scaling> \n",
    "# 각 column의 데이터의 scale을 맞춰주는 정규화 과정을 거쳐야함. \n",
    "numeric_features = ['Age','Fare','Ticket Counts','Fare per ticket','est_age'] \n",
    "numeric_transformer = StandardScaler() # numeric 열 scaler 생성\n",
    "\n",
    "\n",
    "categorical_features = ['Pclass','SibSp','Parch','Embarked','Group','Military','Nobility']\n",
    "categorical_transformer = OneHotEncoder(handle_unknown='ignore') # categorical 열 scaler 생성\n",
    "\n",
    "\n",
    "preprocessor = ColumnTransformer(\n",
    "    transformers=[\n",
    "        ('num', numeric_transformer, numeric_features),\n",
    "        ('cat', categorical_transformer, categorical_features)])\n",
    "\n",
    "#Feature sacaling pipline이 적용된 새로운 logistic \n",
    "new_model_logistic = Pipeline(steps=[('preprocessor', preprocessor),\n",
    "                      ('classifier', model_logistic)])\n",
    "\n",
    "# train/testing 데이터 분류\n",
    "X_train, X_test, y_train, y_test = train_test_split(logistic_X,logistic_Y,test_size=0.3,random_state=0)\n",
    "\n",
    "new_model_logistic.fit(X_train,y_train) # 로지스틱모델 학습\n",
    "\n",
    "# 모델 종류/ x test 데이터/ y test 데이터를 넣었을 때, Accuracy & AUC를 프린트해주는 함수\n",
    "def print_result(model, X_test, y_test):\n",
    "    print('-----{}-----'.format(str(model)))\n",
    "    print('Accuracy(Prediction) score: ', accuracy_score(model.predict(X_test), y_test)) # 올바르게 예측된 데이터 / 전체 데이터\n",
    "    pred_test = model.predict_proba(X_test)\n",
    "    fpr, tpr, _ = roc_curve(y_true=y_test, y_score=pred_test[:,1]) \n",
    "    roc_auc = auc(fpr, tpr) \n",
    "    print('AUC: ', roc_auc)\n",
    "\n",
    "print_result(new_model_logistic, logistic_X, logistic_Y)\n"
   ]
  },
  {
   "cell_type": "code",
   "execution_count": 77,
   "metadata": {},
   "outputs": [
    {
     "name": "stdout",
     "output_type": "stream",
     "text": [
      "최적 하이퍼 파라미터:{'C': 10, 'penalty': 'l1'}, 최적 평균 정확도:0.818\n"
     ]
    }
   ],
   "source": [
    "# 최적의 C값을 찾기위해 GridSearchCV 사용. \n",
    "import warnings\n",
    "warnings.filterwarnings(action='ignore')\n",
    "from sklearn.model_selection import GridSearchCV\n",
    "\n",
    "parameters = {'penalty':['l2', 'l1'],\n",
    "        'C':[0.01, 0.1, 1, 1, 5, 10]}\n",
    "gridsearch = GridSearchCV(model_logistic, parameters)\n",
    "gridsearch.fit(X_train, y_train)\n",
    "print('최적 하이퍼 파라미터:{0}, 최적 평균 정확도:{1:.3f}'.format(gridsearch.best_params_, \n",
    "                                                  gridsearch.best_score_))"
   ]
  },
  {
   "cell_type": "code",
   "execution_count": 78,
   "metadata": {},
   "outputs": [
    {
     "data": {
      "image/png": "[encoded data removed]",
      "text/plain": [
       "<Figure size 720x720 with 1 Axes>"
      ]
     },
     "metadata": {
      "needs_background": "light"
     },
     "output_type": "display_data"
    }
   ],
   "source": [
    "from sklearn.metrics import roc_curve, auc # 두 개의 함수가 모두 들어가 있음. \n",
    "\n",
    "pred_test = new_model_logistic.predict_proba(X_test) \n",
    "fpr, tpr, _ = roc_curve(y_true=y_test, y_score=pred_test[:,1]) # real y & predicted y (based on \"Sepal width\")\n",
    "roc_auc = auc(fpr, tpr) # AUC 면적의 값 (수치)\n",
    "\n",
    "plt.figure(figsize=(10, 10))\n",
    "plt.plot(fpr, tpr, color='green', lw=2, label='ROC curve (area = %2.f)' % roc_auc)\n",
    "plt.plot([0, 1], [0, 1], color='navy', lw=2, linestyle='--')\n",
    "plt.xlim([0.0, 1.0])\n",
    "plt.ylim([0.0, 1.05])\n",
    "plt.xlabel('False Positive Rate')\n",
    "plt.ylabel('True Positive Rate')\n",
    "plt.legend(loc=\"lower right\")\n",
    "plt.title(\"ROC curve\")\n",
    "plt.show()"
   ]
  },
  {
   "cell_type": "markdown",
   "metadata": {},
   "source": [
    "### KNN 모델\n",
    "- k값을 hyper-params로 받음\n",
    "- 가장 가까운 k개의 데이터를 살펴, 가장 많이 속한 클러스터로 분류해주는 알고리즘"
   ]
  },
  {
   "cell_type": "code",
   "execution_count": 79,
   "metadata": {},
   "outputs": [
    {
     "name": "stdout",
     "output_type": "stream",
     "text": [
      "-----Pipeline(memory=None,\n",
      "     steps=[('preprocessor', ColumnTransformer(n_jobs=None, remainder='drop', sparse_threshold=0.3,\n",
      "         transformer_weights=None,\n",
      "         transformers=[('num', StandardScaler(copy=True, with_mean=True, with_std=True), ['Age', 'Fare', 'Ticket Counts', 'Fare per ticket', 'est_age']), ('cat', OneHotEn...ki',\n",
      "           metric_params=None, n_jobs=None, n_neighbors=7, p=2,\n",
      "           weights='uniform'))])-----\n",
      "Accuracy(Prediction) score:  0.7078651685393258\n",
      "AUC:  0.7646496815286625\n"
     ]
    }
   ],
   "source": [
    "X_KNN = x_data[x_data.columns.difference(['Survived'])] # Survived열 제외 모든 열을 X값으로 \n",
    "Y_KNN = x_data['Survived'] # Survived열을 y값으로 \n",
    "model_KNN = neighbors.KNeighborsClassifier(7) \n",
    "# KNN은 hyper-param로 K값을 받음.\n",
    "# k값이 클수록 overfitting일 확률 감소하므로, 너무 작지 않은 최적의 k값을 도출하는 과정이 필요함. \n",
    "# 어떻게 최적의 K값을 구할까? 다음 셀 GridSearchCV를 통해 도출. 그 결과값이 7이 나와, k에 7을 넣어줌\n",
    "\n",
    "# <Feature scaling> \n",
    "# - KNN모델은 가장 가까운 데이터 k개를 기반으로 \"거리\"를 계산하는 과정이 필요함. 각 column의 데이터의 scale을 맞춰주는 정규화 과정을 거쳐야함. \n",
    "numeric_features = ['Age','Fare','Ticket Counts','Fare per ticket','est_age'] \n",
    "numeric_transformer = StandardScaler() # numeric 열 scaler 생성\n",
    "\n",
    "categorical_features = ['Pclass','SibSp','Parch','Embarked','Group','Military','Nobility']\n",
    "categorical_transformer = OneHotEncoder(handle_unknown='ignore') # categorical 열 scaler 생성\n",
    "\n",
    "preprocessor = ColumnTransformer(\n",
    "    transformers=[\n",
    "        ('num', numeric_transformer, numeric_features),\n",
    "        ('cat', categorical_transformer, categorical_features)])\n",
    "\n",
    "# Feature scaling pipline이 적용된 새로운 \"knn모델\" 생성\n",
    "new_model_KNN = Pipeline(steps=[('preprocessor', preprocessor),\n",
    "                          ('classifier', model_KNN)])\n",
    "\n",
    "# train/testing 데이터 분류\n",
    "X_train, X_test, y_train, y_test = train_test_split(X_KNN,Y_KNN,test_size=0.3,random_state=0)\n",
    "\n",
    "new_model_KNN.fit(X_train,y_train) # KNN 모델 학습\n",
    "\n",
    "# 모델 종류/ x test 데이터/ y test 데이터를 넣었을 때, Accuracy & AUC를 프린트해주는 함수\n",
    "def print_result(model, X_test, y_test):\n",
    "    # print('MSE: ', mean_squared_error(clf.predict(X_train), y_train))\n",
    "    print('-----{}-----'.format(str(model)))\n",
    "    print('Accuracy(Prediction) score: ', accuracy_score(model.predict(X_test), y_test)) # 올바르게 예측된 데이터 / 전체 데이터\n",
    "    pred_test = model.predict_proba(X_test)\n",
    "    fpr, tpr, _ = roc_curve(y_true=y_test, y_score=pred_test[:,1]) \n",
    "    roc_auc = auc(fpr, tpr) \n",
    "    print('AUC: ', roc_auc)\n",
    "\n",
    "\n",
    "print_result(new_model_KNN, X_test, y_test) # KNN모델의 Accuracy & AUC값 프린트"
   ]
  },
  {
   "cell_type": "code",
   "execution_count": 80,
   "metadata": {},
   "outputs": [
    {
     "data": {
      "text/plain": [
       "{'n_neighbors': 7}"
      ]
     },
     "execution_count": 80,
     "metadata": {},
     "output_type": "execute_result"
    }
   ],
   "source": [
    "# 최적의 K값을 찾아보자 : GridSearchCV 사용. 자동으로 최적의 K값을 찾아줄 것임. (참고: https://realpython.com/knn-python/)\n",
    "from sklearn.model_selection import GridSearchCV\n",
    "parameters = {\"n_neighbors\": range(1, 50)}\n",
    "gridsearch = GridSearchCV(model_KNN, parameters)\n",
    "gridsearch.fit(X_train, y_train)\n",
    "gridsearch.best_params_"
   ]
  },
  {
   "cell_type": "markdown",
   "metadata": {},
   "source": [
    "### Gradient Boost 모델\n",
    "- 여러 개의 decision tree를 묶어 강력한 model을 만드는 ensemble기법\n",
    "- 학습을 수행하되, 앞에서 학습한 분류기가 예측이 틀린 데이터에 대해서 올바르게 예측할 수 있도록 다음 분류기에게 가중치(weight)를 부여하면서 학습과 예측 진행한 모델\n"
   ]
  },
  {
   "cell_type": "code",
   "execution_count": 81,
   "metadata": {},
   "outputs": [],
   "source": [
    "# 변수 Group, Embarked, Parch 삭제 // 삭제 이유에 대해서는 추후 영향력 없는 변수를 하나씩 지워가면서 AUC 값 확인\n",
    "\n",
    "X = x_data[['Age', 'Sex', 'Pclass', 'Fare per ticket', 'est_age']]\n",
    "Y = x_data[['Survived']]"
   ]
  },
  {
   "cell_type": "code",
   "execution_count": 82,
   "metadata": {},
   "outputs": [
    {
     "name": "stdout",
     "output_type": "stream",
     "text": [
      "The accuracy score on test set: 0.7978\n",
      "MSE: 0.2022\n"
     ]
    }
   ],
   "source": [
    "#GrandientBoostingClassifier 함수 이용하여 Accuarcy score 및 MSE 확인\n",
    "\n",
    "# 비율 7 : 3으로 분석 진행\n",
    "X_train, X_test, Y_train, Y_test = train_test_split(\n",
    "    X, Y, test_size=0.3, random_state=13)\n",
    "params = {'n_estimators': 150,   # 반복횟수\n",
    "          'max_depth': 4,        # 의사결정나무 최대 4번까지 내려갈 것\n",
    "          'min_samples_split': 5, # 한 항목 당 5개까지 가지 칠 것\n",
    "          'learning_rate': 0.01}  # 학습계수 0.01\n",
    "\n",
    "clf = ensemble.GradientBoostingClassifier(**params)\n",
    "clf.fit(X_train, Y_train)\n",
    "\n",
    "acc = accuracy_score(Y_test, clf.predict(X_test))\n",
    "print(\"The accuracy score on test set: {:.4f}\".format(acc))\n",
    "\n",
    "mse = mean_squared_error(Y_test, clf.predict(X_test))\n",
    "print(\"MSE: %.4f\" % mse)\n"
   ]
  },
  {
   "cell_type": "code",
   "execution_count": 83,
   "metadata": {
    "scrolled": false
   },
   "outputs": [
    {
     "data": {
      "image/png": "[encoded data removed]",
      "text/plain": [
       "<Figure size 864x432 with 1 Axes>"
      ]
     },
     "metadata": {
      "needs_background": "light"
     },
     "output_type": "display_data"
    }
   ],
   "source": [
    "#Accuracy 점수 그래프\n",
    "\n",
    "train_score = np.zeros((params['n_estimators'],), dtype=np.float64)\n",
    "for i, y_pred in enumerate(clf.staged_predict(X_train)):  #각 단계별로 추출값을 뽑아내는 함수 \n",
    "    train_score[i] = accuracy_score(Y_train, y_pred)\n",
    "\n",
    "test_score = np.zeros((params['n_estimators'],), dtype=np.float64)\n",
    "for i, y_pred in enumerate(clf.staged_predict(X_test)):\n",
    "    test_score[i] = accuracy_score(Y_test, y_pred)\n",
    "    \n",
    "fig = plt.figure(figsize=(12, 6))\n",
    "plt.subplot(1, 1, 1)\n",
    "plt.title('Accuracy') # Binomial deviance loss function for binary classification\n",
    "plt.plot(np.arange(params['n_estimators']) + 1, train_score, 'b-', label='Training Set Accuracy')\n",
    "plt.plot(np.arange(params['n_estimators']) + 1, test_score, 'r-', label='Test Set Accuracy')\n",
    "plt.legend(loc='upper right')\n",
    "plt.xlabel('Boosting Iterations')\n",
    "plt.ylabel('Accuracy')\n",
    "fig.tight_layout()\n",
    "plt.show()"
   ]
  },
  {
   "cell_type": "code",
   "execution_count": 84,
   "metadata": {},
   "outputs": [],
   "source": [
    "# pre_X= x_data[x_data.columns.difference(['Survived'])] # y열 제외 모든 x열\n",
    "# pre_X_train, pre_X_test, Y_train, Y_test = train_test_split(\n",
    "#     pre_X, Y, test_size=0.3, random_state=0)\n",
    "# model_GBC = ensemble.GradientBoostingClassifier(**params) # 모든 x열로 학습해줄 새로운 모델을 만들어줍니다\n",
    "# model_GBC.fit(pre_X_train, Y_train)"
   ]
  },
  {
   "cell_type": "code",
   "execution_count": 85,
   "metadata": {},
   "outputs": [
    {
     "data": {
      "image/png": "[encoded data removed]",
      "text/plain": [
       "<Figure size 864x432 with 1 Axes>"
      ]
     },
     "metadata": {
      "needs_background": "light"
     },
     "output_type": "display_data"
    }
   ],
   "source": [
    "#각 변수별 중요도 확인(해당 그래프를 참고로 중요도가 낮은 변수를 제외하여 설명력 올림)\n",
    "\n",
    "feature_importance = clf.feature_importances_\n",
    "sorted_idx = np.argsort(feature_importance)\n",
    "pos = np.arange(sorted_idx.shape[0]) + .5\n",
    "\n",
    "fig = plt.figure(figsize=(12, 6))\n",
    "\n",
    "plt.barh(pos, feature_importance[sorted_idx], align='center')\n",
    "plt.yticks(pos, np.array(X.columns)[sorted_idx])\n",
    "plt.title('Feature Importance (MDI)')\n",
    "\n",
    "fig.tight_layout()\n",
    "plt.show()"
   ]
  },
  {
   "cell_type": "code",
   "execution_count": 86,
   "metadata": {},
   "outputs": [
    {
     "data": {
      "image/png": "[encoded data removed]",
      "text/plain": [
       "<Figure size 720x720 with 1 Axes>"
      ]
     },
     "metadata": {
      "needs_background": "light"
     },
     "output_type": "display_data"
    }
   ],
   "source": [
    "#AUC 그래프 및 점수 확인\n",
    "\n",
    "from sklearn.metrics import roc_curve, auc\n",
    "\n",
    "fpr, tpr, _ = roc_curve(y_true=Y_test, y_score=clf.predict_proba(X_test)[:,1]) # real y & predicted y (based on \"Sepal width\")\n",
    "roc_auc = auc(fpr, tpr) # AUC 면적의 값 (수치)\n",
    "\n",
    "plt.figure(figsize=(10, 10))\n",
    "plt.plot(fpr, tpr, color='darkorange', lw=2, label='ROC curve (area = %0.2f)' % roc_auc)\n",
    "plt.plot([0, 1], [0, 1], color='navy', lw=2, linestyle='--')\n",
    "\n",
    "plt.xlim([0.0, 1.0])\n",
    "plt.ylim([0.0, 1.05])\n",
    "plt.xlabel('False Positive Rate')\n",
    "plt.ylabel('True Positive Rate')\n",
    "plt.legend(loc=\"lower right\")\n",
    "plt.title(\"ROC curve\")\n",
    "plt.show()"
   ]
  },
  {
   "cell_type": "code",
   "execution_count": 87,
   "metadata": {},
   "outputs": [
    {
     "data": {
      "text/plain": [
       "GradientBoostingClassifier(criterion='friedman_mse', init=None,\n",
       "              learning_rate=0.01, loss='deviance', max_depth=4,\n",
       "              max_features=None, max_leaf_nodes=None,\n",
       "              min_impurity_decrease=0.0, min_impurity_split=None,\n",
       "              min_samples_leaf=1, min_samples_split=5,\n",
       "              min_weight_fraction_leaf=0.0, n_estimators=150,\n",
       "              n_iter_no_change=None, presort='auto', random_state=None,\n",
       "              subsample=1.0, tol=0.0001, validation_fraction=0.1,\n",
       "              verbose=0, warm_start=False)"
      ]
     },
     "execution_count": 87,
     "metadata": {},
     "output_type": "execute_result"
    }
   ],
   "source": [
    "pre_X= x_data[x_data.columns.difference(['Survived'])] # y열 제외 모든 x열\n",
    "pre_X_train, pre_X_test, Y_train, Y_test = train_test_split(\n",
    "    pre_X, Y, test_size=0.3, random_state=0)\n",
    "model_GBC = ensemble.GradientBoostingClassifier(**params) # 모든 x열로 학습해줄 새로운 모델을 만들어줍니다\n",
    "model_GBC.fit(pre_X_train, Y_train)"
   ]
  },
  {
   "cell_type": "code",
   "execution_count": 88,
   "metadata": {},
   "outputs": [
    {
     "name": "stdout",
     "output_type": "stream",
     "text": [
      "              precision    recall  f1-score   support\n",
      "\n",
      "           0       0.61      0.73      0.66       157\n",
      "           1       0.46      0.34      0.39       110\n",
      "\n",
      "   micro avg       0.57      0.57      0.57       267\n",
      "   macro avg       0.54      0.53      0.53       267\n",
      "weighted avg       0.55      0.57      0.55       267\n",
      "\n",
      "Accuracy on Training set: 0.539\n",
      "Accuracy on Test set: 0.566\n"
     ]
    }
   ],
   "source": [
    "# Precision, Recall F1-Score 항목 확인\n",
    "\n",
    "from sklearn.metrics import classification_report\n",
    "\n",
    "predictions = clf.predict(X_test)\n",
    "print(classification_report(Y_test, predictions)) # Precision, Recall, F1-score 등을 확인할 수 있습니다.\n",
    "\n",
    "print(\"Accuracy on Training set: {:.3f}\".format(clf.score(X_train, Y_train)))\n",
    "print(\"Accuracy on Test set: {:.3f}\".format(clf.score(X_test, Y_test)))"
   ]
  },
  {
   "cell_type": "code",
   "execution_count": 89,
   "metadata": {},
   "outputs": [],
   "source": [
    "# # GradientBoostingClassfier Grid 작업으로 최적 파라미터 도출 진행 ---- 시간 오래 소요되는파트 (5~10분)\n",
    "\n",
    "# from sklearn.ensemble import GradientBoostingClassifier\n",
    "\n",
    "# from sklearn.model_selection import GridSearchCV\n",
    "# from sklearn.metrics import accuracy_score\n",
    "# from sklearn.metrics import precision_score\n",
    "# from sklearn.metrics import recall_score\n",
    "# from sklearn.metrics import make_scorer\n",
    "# #creating Scoring parameter: \n",
    "# scoring = {'accuracy': make_scorer(accuracy_score),\n",
    "#            'precision': make_scorer(precision_score),'recall':make_scorer(recall_score)}\n",
    "\n",
    "# # A sample parameter\n",
    "\n",
    "# parameters = {\n",
    "#     \"loss\":[\"deviance\"],\n",
    "#     \"learning_rate\": [0.01, 0.05, 0.1, 0.5, 1],\n",
    "#     \"min_samples_split\": np.linspace(0.1, 0.5, 12),\n",
    "#     \"min_samples_leaf\": np.linspace(0.1, 0.5, 12),\n",
    "#     \"max_depth\":[3,5,8],\n",
    "#     \"n_estimators\":[500]\n",
    "#     }\n",
    "\n",
    "# clf = GridSearchCV(GradientBoostingClassifier(), parameters, cv=10, n_jobs=-1)\n",
    "\n",
    "# clf.fit(X_train, Y_train)\n",
    "# print(clf.score(X_train, Y_train))\n",
    "# print(clf.best_params_)"
   ]
  },
  {
   "cell_type": "code",
   "execution_count": 90,
   "metadata": {},
   "outputs": [
    {
     "name": "stdout",
     "output_type": "stream",
     "text": [
      "The accuracy score on test set: 0.5655\n",
      "MSE: 0.4345\n"
     ]
    }
   ],
   "source": [
    "# 최적 파라미터 Accuracy_Score 및 MSE 확인\n",
    "\n",
    "acc = accuracy_score(Y_test, clf.predict(X_test))\n",
    "print(\"The accuracy score on test set: {:.4f}\".format(acc))\n",
    "\n",
    "mse = mean_squared_error(Y_test, clf.predict(X_test))\n",
    "print(\"MSE: %.4f\" % mse)"
   ]
  },
  {
   "cell_type": "markdown",
   "metadata": {},
   "source": [
    "### LightGBM\n",
    "- XGBoost와 마찬가지로 weak learner들을 strong learner로 변환시키는 알고리즘\n",
    "- XGBoost와 예측값에는 큰 차이가 없으나, 훨씬 더 적은 자원을 사용하여 대용량 데이터 처리가 가능함. 빠름.\n",
    "- (참고) https://lsjsj92.tistory.com/548 "
   ]
  },
  {
   "cell_type": "code",
   "execution_count": 91,
   "metadata": {},
   "outputs": [
    {
     "name": "stdout",
     "output_type": "stream",
     "text": [
      "Requirement already satisfied: lightgbm in c:\\users\\user\\anaconda3\\lib\\site-packages (3.2.1)\n",
      "Requirement already satisfied: numpy in c:\\users\\user\\anaconda3\\lib\\site-packages (from lightgbm) (1.16.2)\n",
      "Requirement already satisfied: scipy in c:\\users\\user\\anaconda3\\lib\\site-packages (from lightgbm) (1.2.1)\n",
      "Requirement already satisfied: scikit-learn!=0.22.0 in c:\\users\\user\\anaconda3\\lib\\site-packages (from lightgbm) (0.20.3)\n",
      "Requirement already satisfied: wheel in c:\\users\\user\\anaconda3\\lib\\site-packages (from lightgbm) (0.33.1)\n"
     ]
    }
   ],
   "source": [
    "!pip install lightgbm"
   ]
  },
  {
   "cell_type": "code",
   "execution_count": 92,
   "metadata": {},
   "outputs": [
    {
     "name": "stdout",
     "output_type": "stream",
     "text": [
      "-----LGBMClassifier(boosting_type='gbdt', class_weight=None, colsample_bytree=1.0,\n",
      "        importance_type='split', learning_rate=0.1, max_depth=-1,\n",
      "        min_child_samples=20, min_child_weight=0.001, min_split_gain=0.0,\n",
      "        n_estimators=400, n_jobs=-1, num_leaves=31, objective=None,\n",
      "        random_state=None, reg_alpha=0.0, reg_lambda=0.0, silent=True,\n",
      "        subsample=1.0, subsample_for_bin=200000, subsample_freq=0)-----\n",
      "Accuracy(Prediction) score:  0.7865168539325843\n",
      "AUC:  0.8385639837869137\n"
     ]
    }
   ],
   "source": [
    "from lightgbm import LGBMClassifier, plot_importance\n",
    "\n",
    "model_lgb = LGBMClassifier(n_estimators = 400)\n",
    "model_lgb.fit(pre_X_train, y_train)\n",
    "print_result(model_lgb, pre_X_test, y_test) # LightGBM모델의 Accuracy & AUC값 프린트"
   ]
  },
  {
   "cell_type": "markdown",
   "metadata": {},
   "source": [
    "### RandomForest\n",
    "- 많은 Decision Tree (n - estimater를)를 기반으로 Random Forest가 만들어짐\n",
    "- 개별적으로 학습 수행 후 최종적으로 모든 분류기가 voting을 통해 예측 결정\n",
    "- 사용 이유: Parameter의 많은 수정이 불필요하고 단순하다.\n",
    "- 트리개수를 뜻하는 n-estimater를 hyper-parameter로 사용함(보통 50개에서 1000개를 사용"
   ]
  },
  {
   "cell_type": "code",
   "execution_count": 93,
   "metadata": {},
   "outputs": [
    {
     "name": "stdout",
     "output_type": "stream",
     "text": [
      "Accuracy :  93.48 %\n"
     ]
    }
   ],
   "source": [
    "X = np.array(x_data[x_data.columns.difference(['Survived'])])\n",
    "# x값을 Survived를 제외한 모든 features\n",
    "Y = np.array(x_data[['Survived']])\n",
    "# y값을 Survived로\n",
    "\n",
    "model_RF = RandomForestClassifier(n_estimators=100)\n",
    "\n",
    "#train/test 데이터분류\n",
    "x_train, x_test, y_train, y_test = model_selection.train_test_split(X, Y, test_size=0.3, random_state=0)\n",
    "# 7:3 그리고 seed는 0\n",
    "X, Y = shuffle(X, Y, random_state = 0)\n",
    "#데이터 섞기 필수는 아님\n",
    "\n",
    "def train_and_test(model):\n",
    "# creat a function to put any model \n",
    "    model.fit(x_train, y_train)\n",
    "    # 데이터를 모델에 끼워 줌\n",
    "    prediction = model.predict(x_train)\n",
    "    # 모델 예측\n",
    "    accuracy = round(model.score(X, Y) * 100, 2)\n",
    "    # 페센트로 나타내도록 함\n",
    "    print(\"Accuracy : \", accuracy, \"%\")\n",
    "    # print out\n",
    "    return prediction\n",
    "    # return to the prediction\n",
    "\n",
    "rf_pred = train_and_test(model_RF) # 통상적인 갯수가 100 -Tree 갯수"
   ]
  },
  {
   "cell_type": "markdown",
   "metadata": {},
   "source": [
    "### SVM모델\n",
    "-  SVM은 feature의 스케일에 민감하므로, 스케일링 하면 instance 간의 decision boundary가 더 멀리 나타남\n",
    "- C, gamma를 hyper-parameter로 가지고, gamma 값이 너무 작으면 underfitting, 너무 크면 overfitting이 될 수 있다 \n"
   ]
  },
  {
   "cell_type": "code",
   "execution_count": 94,
   "metadata": {},
   "outputs": [
    {
     "name": "stdout",
     "output_type": "stream",
     "text": [
      "Accuracy on Training set: 0.865\n",
      "Accuracy on Test set: 0.730\n"
     ]
    }
   ],
   "source": [
    "svm_X = x_data[x_data.columns.difference(['Survived'])] # Survived열 제외 모든 열을 X값으로 \n",
    "svm_Y = np.array(x_data['Survived']) # Survived열을 y값으로\n",
    "\n",
    "\n",
    "\n",
    "# 모델객체 생성\n",
    "classifier = SVC(kernel = \"rbf\", C = 1, gamma = 0.5, probability=True)\n",
    "\n",
    "# Feature scaling\n",
    "numeric_features = ['Age','Fare','Ticket Counts','Fare per ticket','est_age'] \n",
    "numeric_transformer = StandardScaler() # numeric 열 scaler 생성\n",
    "\n",
    "\n",
    "categorical_features = ['Pclass','SibSp','Parch','Embarked','Group','Military','Nobility']\n",
    "categorical_transformer = OneHotEncoder(handle_unknown='ignore') # categorical 열 scaler 생성\n",
    "\n",
    "\n",
    "preprocessor = ColumnTransformer(\n",
    "    transformers=[\n",
    "        ('num', numeric_transformer, numeric_features),\n",
    "        ('cat', categorical_transformer, categorical_features)])\n",
    "\n",
    "new_model_svm = Pipeline(steps=[('preprocessor', preprocessor),\n",
    "                      ('classifier', classifier)])\n",
    "\n",
    "\n",
    "X_train, X_test, y_train, y_test = train_test_split(svm_X,svm_Y,test_size=0.3,random_state=0)\n",
    "\n",
    "new_model_svm.fit(X_train, y_train)\n",
    "\n",
    "\n",
    "print(\"Accuracy on Training set: {:.3f}\".format(new_model_svm.score(X_train, y_train)))\n",
    "print(\"Accuracy on Test set: {:.3f}\".format(new_model_svm.score(X_test, y_test)))"
   ]
  },
  {
   "cell_type": "markdown",
   "metadata": {},
   "source": [
    "### LightGBM\n",
    "- XGBoost와 마찬가지로 weak learner들을 strong learner로 변환시키는 알고리즘\n",
    "- XGBoost와 예측값에는 큰 차이가 없으나, 훨씬 더 적은 자원을 사용하여 대용량 데이터 처리가 가능함. 빠름.\n",
    "- (참고) https://lsjsj92.tistory.com/548 "
   ]
  },
  {
   "cell_type": "markdown",
   "metadata": {},
   "source": [
    "<br>\n",
    "\n",
    "## 3. Create model instance variable (동시에 여러 모델을 다른 이름으로 만들 수 있습니다.)"
   ]
  },
  {
   "cell_type": "code",
   "execution_count": 95,
   "metadata": {},
   "outputs": [],
   "source": [
    "# pre_X= x_data[x_data.columns.difference(['Survived'])] # y열 제외 모든 x열\n",
    "# pre_X_train, pre_X_test, Y_train, Y_test = train_test_split(\n",
    "#     pre_X, Y, test_size=0.3, random_state=0)\n",
    "# model_GBC = ensemble.GradientBoostingClassifier(**params) # 모든 x열로 학습해줄 새로운 모델을 만들어줍니다\n",
    "# model_GBC.fit(pre_X_train, Y_train)"
   ]
  },
  {
   "cell_type": "code",
   "execution_count": 96,
   "metadata": {
    "scrolled": false
   },
   "outputs": [
    {
     "data": {
      "image/png": "[encoded data removed]",
      "text/plain": [
       "<Figure size 720x720 with 1 Axes>"
      ]
     },
     "metadata": {
      "needs_background": "light"
     },
     "output_type": "display_data"
    }
   ],
   "source": [
    "from sklearn.linear_model import LogisticRegression\n",
    "from sklearn.ensemble import GradientBoostingClassifier\n",
    "from sklearn import metrics\n",
    "import matplotlib.pyplot as plt\n",
    "models = [\n",
    "    {\n",
    "        'label': 'Logistic regression',\n",
    "        'model': new_model_logistic\n",
    "    },\n",
    "    {\n",
    "        'label': 'KNN',\n",
    "        'model': new_model_KNN\n",
    "    },\n",
    "    {\n",
    "        'label': 'Gradient Boosting Classifier',\n",
    "        'model': model_GBC\n",
    "    },\n",
    "    {\n",
    "        'label': 'Random Forest',\n",
    "        'model': model_RF,\n",
    "    },\n",
    "    {\n",
    "        'label': 'SVM',\n",
    "        'model': new_model_svm,\n",
    "    },\n",
    "    {\n",
    "        'label': 'LightGBM',\n",
    "        'model': model_lgb\n",
    "    }\n",
    "]\n",
    "plt.figure(figsize=(10, 10))\n",
    "for model in models:\n",
    "    fpr, tpr, thresholds = metrics.roc_curve(y_test, model['model'].predict_proba(X_test)[:,1])\n",
    "    auc = metrics.roc_auc_score(y_test,model['model'].predict(X_test))\n",
    "    plt.plot(fpr, tpr,label='%s ROC (area = %0.4f)' % (model['label'], auc))\n",
    "    plt.plot([0, 1], [0, 1], color='navy', lw=2, linestyle='--')\n",
    "    plt.xlim([0.0, 1.0])\n",
    "    plt.ylim([0.0, 1.05])\n",
    "    plt.xlabel('False Survived Rate')\n",
    "    plt.ylabel('True Survived Rate')\n",
    "    plt.legend(loc=\"lower right\")\n",
    "    plt.title(\"ROC curve\")\n",
    "plt.show()"
   ]
  }
 ],
 "metadata": {
  "accelerator": "GPU",
  "colab": {
   "name": "Titanic with XGBoost.ipynb",
   "provenance": [],
   "version": "0.3.2"
  },
  "kernelspec": {
   "display_name": "Python 3",
   "language": "python",
   "name": "python3"
  },
  "language_info": {
   "codemirror_mode": {
    "name": "ipython",
    "version": 3
   },
   "file_extension": ".py",
   "mimetype": "text/x-python",
   "name": "python",
   "nbconvert_exporter": "python",
   "pygments_lexer": "ipython3",
   "version": "3.7.3"
  }
 },
 "nbformat": 4,
 "nbformat_minor": 1
}
